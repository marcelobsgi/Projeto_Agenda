{
 "cells": [
  {
   "cell_type": "markdown",
   "metadata": {},
   "source": [
    "### Tkinter"
   ]
  },
  {
   "cell_type": "code",
   "execution_count": 31,
   "metadata": {},
   "outputs": [],
   "source": [
    "#Biblioteca\n",
    "from tkinter import *\n",
    "import sqlite3\n",
    "import pandas as pd\n"
   ]
  },
  {
   "cell_type": "code",
   "execution_count": 35,
   "metadata": {},
   "outputs": [
    {
     "name": "stdout",
     "output_type": "stream",
     "text": [
      "Banco já criado\n"
     ]
    }
   ],
   "source": [
    "#Criar o Banco\n",
    "try:\n",
    "    conectar =sqlite3.connect(r'C:\\Mus projetos\\Projeto Agenda\\banco\\BancoClientes.db')\n",
    "    c = conectar.cursor()\n",
    "    c.execute('''CREATE TABLE clientes(nome text, sobrenome texte, email text, telefone text)''')\n",
    "except:\n",
    "    print('Banco já criado')"
   ]
  },
  {
   "cell_type": "code",
   "execution_count": 36,
   "metadata": {},
   "outputs": [],
   "source": [
    "conectar.commit()\n",
    "conectar.close()"
   ]
  },
  {
   "cell_type": "code",
   "execution_count": 42,
   "metadata": {},
   "outputs": [],
   "source": [
    "def adastrarcliente ():\n",
    "    conectar =sqlite3.connect(r'C:\\Mus projetos\\Projeto Agenda\\banco\\BancoClientes.db')\n",
    "    c = conectar.cursor()\n",
    "    #criando um dicionario \n",
    "    c.execute(\"INSERT INTO clientes VALUES(:nome, :sobrenome, :email, :telefone)\",\n",
    "              {\n",
    "                  'nome':entry_nome.get(),\n",
    "                  'sobrenome':entry_sobrenome.get(),\n",
    "                  'email':entry_email.get(),\n",
    "                  'telefone':entry_telefone.get()\n",
    "              } )\n",
    "    \n",
    "# deletar nomes do campo após o nomes inseridos\n",
    "\n",
    "    entry_nome.delete(0, 'end')\n",
    "    entry_sobrenome.delete(0, 'end')\n",
    "    entry_email.delete(0, 'end')\n",
    "    entry_telefone.delete(0, 'end')\n",
    "\n",
    "\n",
    "    conectar.commit()\n",
    "    conectar.close()\n",
    "\n",
    "\n",
    "#Exportar para o xlsx\n",
    "\n",
    "def exportar_clientes():\n",
    "    conectar =sqlite3.connect(r'C:\\Mus projetos\\Projeto Agenda\\banco\\BancoClientes.db')\n",
    "    c = conectar.cursor()\n",
    "    c.execute(\" SELECT *, oid FROM clientes\")\n",
    "\n",
    "    clientes_cadastrados = c.fetchall()\n",
    "    clientes_cadastrados =pd.DataFrame(clientes_cadastrados, columns=['nome', 'sobrenome', 'email', 'telefone', 'id_banco'])\n",
    "    clientes_cadastrados.to_excel('Banco_Clientes.xlsx')\n",
    "    \n",
    "    print('Clientes Cadastrados')\n",
    "\n",
    "    conectar.commit()\n",
    "    conectar.close()\n",
    "\n"
   ]
  },
  {
   "cell_type": "code",
   "execution_count": 44,
   "metadata": {},
   "outputs": [
    {
     "name": "stdout",
     "output_type": "stream",
     "text": [
      "Clientes Cadastrados\n",
      "Clientes Cadastrados\n"
     ]
    }
   ],
   "source": [
    "\n",
    "janela = Tk()\n",
    "janela.title(\"Agenda Comercial\")\n",
    "janela.geometry(\"480x300\")\n",
    "\n",
    "\n",
    "    #funções\n",
    "\n",
    "def salvar():\n",
    "        print(\"Cadastro realizado \")\n",
    "\n",
    "def exportar():\n",
    "        print(\"exportando ...\")\n",
    "\n",
    "\n",
    "\n",
    "\n",
    "orientação = Label(janela, text=\"Selecione uma opção:\")\n",
    "orientação.grid(column=0, row=0, padx=10, pady=10)\n",
    "\n",
    "orientação = Label(janela, text=\" 1 - Cadastrar 2 - Exportar\")\n",
    "orientação.grid(column=1, row=0, padx=10, pady=10)\n",
    "\n",
    "\n",
    "\n",
    "label_nome = Label(janela, text ='Nome', width=30)\n",
    "label_nome.grid(row=1, column=0, padx=10, pady=10)\n",
    "\n",
    "label_sobrenome = Label(janela, text ='Sobrenome', width=30)\n",
    "label_sobrenome.grid(row=2, column=0, padx=10, pady=10)\n",
    "\n",
    "label_email = Label(janela, text ='E-mail', width=30)\n",
    "label_email.grid(row=3, column=0, padx=10, pady=10)\n",
    "\n",
    "label_telefone = Label(janela, text ='Telefone', width=30)\n",
    "label_telefone.grid(row=4, column=0, padx=10, pady=10)\n",
    "\n",
    "#________________________________________________________________#\n",
    "\n",
    "entry_nome = Entry(janela, text ='Nome', width=30)\n",
    "entry_nome.grid(row=1, column=1, padx=10, pady=10)\n",
    "\n",
    "entry_sobrenome = Entry(janela, text ='Sobrenome', width=30)\n",
    "entry_sobrenome.grid(row=2, column=1, padx=10, pady=10)\n",
    "\n",
    "entry_email = Entry(janela, text ='Email', width=30)\n",
    "entry_email.grid(row=3, column=1, padx=10, pady=10)\n",
    "\n",
    "entry_telefone = Entry(janela, text ='Telefone', width=30)\n",
    "entry_telefone.grid(row=4, column=1, padx=10, pady=10)\n",
    "\n",
    "#________________________________________________________________#\n",
    "\n",
    "botao = Button(janela, text=\"   Salvar   \", command=adastrarcliente)\n",
    "botao.grid(column=0, row=6, padx=10, pady=10)\n",
    "\n",
    "botao2 = Button(janela, text=\"  Exportar \", command=exportar_clientes)\n",
    "botao2.grid(column=1, row=6, padx=10, pady=10)\n",
    "\n",
    "\n",
    "\n",
    "janela.mainloop()\n"
   ]
  },
  {
   "cell_type": "code",
   "execution_count": null,
   "metadata": {},
   "outputs": [],
   "source": []
  }
 ],
 "metadata": {
  "kernelspec": {
   "display_name": "Python 3",
   "language": "python",
   "name": "python3"
  },
  "language_info": {
   "codemirror_mode": {
    "name": "ipython",
    "version": 3
   },
   "file_extension": ".py",
   "mimetype": "text/x-python",
   "name": "python",
   "nbconvert_exporter": "python",
   "pygments_lexer": "ipython3",
   "version": "3.11.9"
  }
 },
 "nbformat": 4,
 "nbformat_minor": 2
}
